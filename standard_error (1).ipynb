{
  "nbformat": 4,
  "nbformat_minor": 0,
  "metadata": {
    "colab": {
      "provenance": []
    },
    "kernelspec": {
      "name": "python3",
      "display_name": "Python 3"
    },
    "language_info": {
      "name": "python"
    }
  },
  "cells": [
    {
      "cell_type": "code",
      "execution_count": 1,
      "metadata": {
        "colab": {
          "base_uri": "https://localhost:8080/"
        },
        "id": "wY_21XJpNNju",
        "outputId": "c3651359-bcb4-4a97-ee63-7b56b9b0f868"
      },
      "outputs": [
        {
          "output_type": "stream",
          "name": "stdout",
          "text": [
            "Mounted at /content/gdrive\n"
          ]
        }
      ],
      "source": [
        "import os\n",
        "import glob\n",
        "import pandas as pd\n",
        "\n",
        "from google.colab import drive\n",
        "\n",
        "# Mount Google Drive\n",
        "drive.mount('/content/gdrive')"
      ]
    },
    {
      "cell_type": "code",
      "source": [
        "input_folder = \"/content/gdrive/MyDrive/Projet Tec/E_Zener_MG63-main/E_Zener_MG63-main/MG63_withC\"\n",
        "output_folder = \"/content/gdrive/MyDrive/Projet Tec/E_Zener_MG63-main/E_Zener_MG63-main/MG63_standarderror\"\n",
        "os.makedirs(output_folder, exist_ok=True)\n",
        "\n",
        "file_paths = glob.glob(os.path.join(input_folder, \"*.txt\"))"
      ],
      "metadata": {
        "id": "gvOc1FkQOd54"
      },
      "execution_count": 2,
      "outputs": []
    },
    {
      "cell_type": "code",
      "source": [
        "len(df[1])"
      ],
      "metadata": {
        "colab": {
          "base_uri": "https://localhost:8080/"
        },
        "id": "T0plI1xK65tK",
        "outputId": "ab7fdedc-9b4c-4d16-9eeb-2a6bbd2fcfce"
      },
      "execution_count": 44,
      "outputs": [
        {
          "output_type": "execute_result",
          "data": {
            "text/plain": [
              "5001"
            ]
          },
          "metadata": {},
          "execution_count": 44
        }
      ]
    },
    {
      "cell_type": "code",
      "source": [
        "y = [[] for _ in range(N)]\n",
        "\n",
        "# Process files\n",
        "for file in file_paths:\n",
        "    df = pd.read_csv(file, delim_whitespace=True, header=None)\n",
        "    N = len(df[0])\n",
        "\n",
        "    for i in range(len(df[1])):\n",
        "      y[i].append(df[1][i])"
      ],
      "metadata": {
        "colab": {
          "base_uri": "https://localhost:8080/"
        },
        "collapsed": true,
        "id": "cjA2C_BPOpJq",
        "outputId": "545e13b5-7df3-4f8b-b8c6-165b585d166d"
      },
      "execution_count": 45,
      "outputs": [
        {
          "output_type": "stream",
          "name": "stderr",
          "text": [
            "<ipython-input-45-d5c0a4c8abb7>:5: FutureWarning: The 'delim_whitespace' keyword in pd.read_csv is deprecated and will be removed in a future version. Use ``sep='\\s+'`` instead\n",
            "  df = pd.read_csv(file, delim_whitespace=True, header=None)\n",
            "<ipython-input-45-d5c0a4c8abb7>:5: FutureWarning: The 'delim_whitespace' keyword in pd.read_csv is deprecated and will be removed in a future version. Use ``sep='\\s+'`` instead\n",
            "  df = pd.read_csv(file, delim_whitespace=True, header=None)\n",
            "<ipython-input-45-d5c0a4c8abb7>:5: FutureWarning: The 'delim_whitespace' keyword in pd.read_csv is deprecated and will be removed in a future version. Use ``sep='\\s+'`` instead\n",
            "  df = pd.read_csv(file, delim_whitespace=True, header=None)\n",
            "<ipython-input-45-d5c0a4c8abb7>:5: FutureWarning: The 'delim_whitespace' keyword in pd.read_csv is deprecated and will be removed in a future version. Use ``sep='\\s+'`` instead\n",
            "  df = pd.read_csv(file, delim_whitespace=True, header=None)\n",
            "<ipython-input-45-d5c0a4c8abb7>:5: FutureWarning: The 'delim_whitespace' keyword in pd.read_csv is deprecated and will be removed in a future version. Use ``sep='\\s+'`` instead\n",
            "  df = pd.read_csv(file, delim_whitespace=True, header=None)\n",
            "<ipython-input-45-d5c0a4c8abb7>:5: FutureWarning: The 'delim_whitespace' keyword in pd.read_csv is deprecated and will be removed in a future version. Use ``sep='\\s+'`` instead\n",
            "  df = pd.read_csv(file, delim_whitespace=True, header=None)\n",
            "<ipython-input-45-d5c0a4c8abb7>:5: FutureWarning: The 'delim_whitespace' keyword in pd.read_csv is deprecated and will be removed in a future version. Use ``sep='\\s+'`` instead\n",
            "  df = pd.read_csv(file, delim_whitespace=True, header=None)\n",
            "<ipython-input-45-d5c0a4c8abb7>:5: FutureWarning: The 'delim_whitespace' keyword in pd.read_csv is deprecated and will be removed in a future version. Use ``sep='\\s+'`` instead\n",
            "  df = pd.read_csv(file, delim_whitespace=True, header=None)\n",
            "<ipython-input-45-d5c0a4c8abb7>:5: FutureWarning: The 'delim_whitespace' keyword in pd.read_csv is deprecated and will be removed in a future version. Use ``sep='\\s+'`` instead\n",
            "  df = pd.read_csv(file, delim_whitespace=True, header=None)\n",
            "<ipython-input-45-d5c0a4c8abb7>:5: FutureWarning: The 'delim_whitespace' keyword in pd.read_csv is deprecated and will be removed in a future version. Use ``sep='\\s+'`` instead\n",
            "  df = pd.read_csv(file, delim_whitespace=True, header=None)\n",
            "<ipython-input-45-d5c0a4c8abb7>:5: FutureWarning: The 'delim_whitespace' keyword in pd.read_csv is deprecated and will be removed in a future version. Use ``sep='\\s+'`` instead\n",
            "  df = pd.read_csv(file, delim_whitespace=True, header=None)\n",
            "<ipython-input-45-d5c0a4c8abb7>:5: FutureWarning: The 'delim_whitespace' keyword in pd.read_csv is deprecated and will be removed in a future version. Use ``sep='\\s+'`` instead\n",
            "  df = pd.read_csv(file, delim_whitespace=True, header=None)\n",
            "<ipython-input-45-d5c0a4c8abb7>:5: FutureWarning: The 'delim_whitespace' keyword in pd.read_csv is deprecated and will be removed in a future version. Use ``sep='\\s+'`` instead\n",
            "  df = pd.read_csv(file, delim_whitespace=True, header=None)\n",
            "<ipython-input-45-d5c0a4c8abb7>:5: FutureWarning: The 'delim_whitespace' keyword in pd.read_csv is deprecated and will be removed in a future version. Use ``sep='\\s+'`` instead\n",
            "  df = pd.read_csv(file, delim_whitespace=True, header=None)\n",
            "<ipython-input-45-d5c0a4c8abb7>:5: FutureWarning: The 'delim_whitespace' keyword in pd.read_csv is deprecated and will be removed in a future version. Use ``sep='\\s+'`` instead\n",
            "  df = pd.read_csv(file, delim_whitespace=True, header=None)\n",
            "<ipython-input-45-d5c0a4c8abb7>:5: FutureWarning: The 'delim_whitespace' keyword in pd.read_csv is deprecated and will be removed in a future version. Use ``sep='\\s+'`` instead\n",
            "  df = pd.read_csv(file, delim_whitespace=True, header=None)\n",
            "<ipython-input-45-d5c0a4c8abb7>:5: FutureWarning: The 'delim_whitespace' keyword in pd.read_csv is deprecated and will be removed in a future version. Use ``sep='\\s+'`` instead\n",
            "  df = pd.read_csv(file, delim_whitespace=True, header=None)\n",
            "<ipython-input-45-d5c0a4c8abb7>:5: FutureWarning: The 'delim_whitespace' keyword in pd.read_csv is deprecated and will be removed in a future version. Use ``sep='\\s+'`` instead\n",
            "  df = pd.read_csv(file, delim_whitespace=True, header=None)\n",
            "<ipython-input-45-d5c0a4c8abb7>:5: FutureWarning: The 'delim_whitespace' keyword in pd.read_csv is deprecated and will be removed in a future version. Use ``sep='\\s+'`` instead\n",
            "  df = pd.read_csv(file, delim_whitespace=True, header=None)\n",
            "<ipython-input-45-d5c0a4c8abb7>:5: FutureWarning: The 'delim_whitespace' keyword in pd.read_csv is deprecated and will be removed in a future version. Use ``sep='\\s+'`` instead\n",
            "  df = pd.read_csv(file, delim_whitespace=True, header=None)\n",
            "<ipython-input-45-d5c0a4c8abb7>:5: FutureWarning: The 'delim_whitespace' keyword in pd.read_csv is deprecated and will be removed in a future version. Use ``sep='\\s+'`` instead\n",
            "  df = pd.read_csv(file, delim_whitespace=True, header=None)\n"
          ]
        }
      ]
    },
    {
      "cell_type": "code",
      "source": [
        "import numpy as np\n",
        "\n",
        "# Calculer l'erreur standard pour chaque sous-liste\n",
        "std_errors = [np.std(sublist, ddof=1) / np.sqrt(len(sublist)) for sublist in y]\n",
        "weights = [1 / (sigma**2) for sigma in std_errors]\n",
        "len(weights)"
      ],
      "metadata": {
        "colab": {
          "base_uri": "https://localhost:8080/"
        },
        "id": "2D6fHJB5VZfa",
        "outputId": "31c2a8b2-ea9f-4588-b126-b52b8374dea2"
      },
      "execution_count": 51,
      "outputs": [
        {
          "output_type": "execute_result",
          "data": {
            "text/plain": [
              "5001"
            ]
          },
          "metadata": {},
          "execution_count": 51
        }
      ]
    },
    {
      "cell_type": "code",
      "source": [
        "with open(\"weights.txt\", \"w\") as f:\n",
        "    for i, value in enumerate(weights):\n",
        "        if i < len(weights) - 1:\n",
        "            f.write(f\"{value}\\n\")\n",
        "        else:\n",
        "            f.write(f\"{value}\")  # Pas de \\n sur le dernier élément"
      ],
      "metadata": {
        "id": "az6pyPw3T38S"
      },
      "execution_count": 52,
      "outputs": []
    }
  ]
}